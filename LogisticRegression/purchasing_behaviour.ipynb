{
 "cells": [
  {
   "cell_type": "code",
   "execution_count": 2,
   "id": "f13137b1",
   "metadata": {},
   "outputs": [],
   "source": [
    "import pandas as pd\n",
    "import numpy as np\n",
    "import matplotlib.pyplot as plt\n",
    "import seaborn as sns\n",
    "from sklearn.preprocessing import StandardScaler\n",
    "from sklearn.model_selection import train_test_split\n",
    "from sklearn.metrics import (\n",
    "    accuracy_score, precision_score, recall_score,\n",
    "    f1_score, roc_auc_score, confusion_matrix,\n",
    "    classification_report\n",
    ")\n",
    "\n",
    "import statsmodels.api as ms"
   ]
  },
  {
   "cell_type": "code",
   "execution_count": 3,
   "id": "2fe4bc7f",
   "metadata": {},
   "outputs": [
    {
     "data": {
      "text/html": [
       "<div>\n",
       "<style scoped>\n",
       "    .dataframe tbody tr th:only-of-type {\n",
       "        vertical-align: middle;\n",
       "    }\n",
       "\n",
       "    .dataframe tbody tr th {\n",
       "        vertical-align: top;\n",
       "    }\n",
       "\n",
       "    .dataframe thead th {\n",
       "        text-align: right;\n",
       "    }\n",
       "</style>\n",
       "<table border=\"1\" class=\"dataframe\">\n",
       "  <thead>\n",
       "    <tr style=\"text-align: right;\">\n",
       "      <th></th>\n",
       "      <th>Purchasing behaviour</th>\n",
       "      <th>Gender</th>\n",
       "      <th>Age</th>\n",
       "      <th>Time spent in online shop</th>\n",
       "    </tr>\n",
       "  </thead>\n",
       "  <tbody>\n",
       "    <tr>\n",
       "      <th>0</th>\n",
       "      <td>Buy now</td>\n",
       "      <td>female</td>\n",
       "      <td>22</td>\n",
       "      <td>40</td>\n",
       "    </tr>\n",
       "    <tr>\n",
       "      <th>1</th>\n",
       "      <td>Buy now</td>\n",
       "      <td>female</td>\n",
       "      <td>25</td>\n",
       "      <td>23</td>\n",
       "    </tr>\n",
       "    <tr>\n",
       "      <th>2</th>\n",
       "      <td>Buy now</td>\n",
       "      <td>male</td>\n",
       "      <td>18</td>\n",
       "      <td>12</td>\n",
       "    </tr>\n",
       "    <tr>\n",
       "      <th>3</th>\n",
       "      <td>Buy now</td>\n",
       "      <td>male</td>\n",
       "      <td>45</td>\n",
       "      <td>28</td>\n",
       "    </tr>\n",
       "    <tr>\n",
       "      <th>4</th>\n",
       "      <td>Buy now</td>\n",
       "      <td>female</td>\n",
       "      <td>12</td>\n",
       "      <td>43</td>\n",
       "    </tr>\n",
       "    <tr>\n",
       "      <th>5</th>\n",
       "      <td>Buy now</td>\n",
       "      <td>male</td>\n",
       "      <td>43</td>\n",
       "      <td>23</td>\n",
       "    </tr>\n",
       "    <tr>\n",
       "      <th>6</th>\n",
       "      <td>Buy now</td>\n",
       "      <td>male</td>\n",
       "      <td>23</td>\n",
       "      <td>55</td>\n",
       "    </tr>\n",
       "    <tr>\n",
       "      <th>7</th>\n",
       "      <td>Buy now</td>\n",
       "      <td>male</td>\n",
       "      <td>33</td>\n",
       "      <td>34</td>\n",
       "    </tr>\n",
       "    <tr>\n",
       "      <th>8</th>\n",
       "      <td>Buy later</td>\n",
       "      <td>female</td>\n",
       "      <td>27</td>\n",
       "      <td>28</td>\n",
       "    </tr>\n",
       "    <tr>\n",
       "      <th>9</th>\n",
       "      <td>Buy later</td>\n",
       "      <td>female</td>\n",
       "      <td>27</td>\n",
       "      <td>15</td>\n",
       "    </tr>\n",
       "    <tr>\n",
       "      <th>10</th>\n",
       "      <td>Buy later</td>\n",
       "      <td>male</td>\n",
       "      <td>48</td>\n",
       "      <td>110</td>\n",
       "    </tr>\n",
       "    <tr>\n",
       "      <th>11</th>\n",
       "      <td>Buy later</td>\n",
       "      <td>male</td>\n",
       "      <td>34</td>\n",
       "      <td>28</td>\n",
       "    </tr>\n",
       "    <tr>\n",
       "      <th>12</th>\n",
       "      <td>Buy later</td>\n",
       "      <td>male</td>\n",
       "      <td>32</td>\n",
       "      <td>11</td>\n",
       "    </tr>\n",
       "    <tr>\n",
       "      <th>13</th>\n",
       "      <td>Buy later</td>\n",
       "      <td>male</td>\n",
       "      <td>66</td>\n",
       "      <td>32</td>\n",
       "    </tr>\n",
       "    <tr>\n",
       "      <th>14</th>\n",
       "      <td>Buy later</td>\n",
       "      <td>male</td>\n",
       "      <td>24</td>\n",
       "      <td>23</td>\n",
       "    </tr>\n",
       "    <tr>\n",
       "      <th>15</th>\n",
       "      <td>Buy later</td>\n",
       "      <td>female</td>\n",
       "      <td>34</td>\n",
       "      <td>44</td>\n",
       "    </tr>\n",
       "    <tr>\n",
       "      <th>16</th>\n",
       "      <td>Don't buy anything</td>\n",
       "      <td>female</td>\n",
       "      <td>27</td>\n",
       "      <td>55</td>\n",
       "    </tr>\n",
       "    <tr>\n",
       "      <th>17</th>\n",
       "      <td>Don't buy anything</td>\n",
       "      <td>female</td>\n",
       "      <td>34</td>\n",
       "      <td>65</td>\n",
       "    </tr>\n",
       "    <tr>\n",
       "      <th>18</th>\n",
       "      <td>Don't buy anything</td>\n",
       "      <td>male</td>\n",
       "      <td>55</td>\n",
       "      <td>56</td>\n",
       "    </tr>\n",
       "    <tr>\n",
       "      <th>19</th>\n",
       "      <td>Don't buy anything</td>\n",
       "      <td>male</td>\n",
       "      <td>65</td>\n",
       "      <td>80</td>\n",
       "    </tr>\n",
       "  </tbody>\n",
       "</table>\n",
       "</div>"
      ],
      "text/plain": [
       "   Purchasing behaviour  Gender Age Time spent in online shop\n",
       "0               Buy now  female  22                        40\n",
       "1               Buy now  female  25                        23\n",
       "2               Buy now    male  18                        12\n",
       "3               Buy now    male  45                        28\n",
       "4               Buy now  female  12                        43\n",
       "5               Buy now    male  43                        23\n",
       "6               Buy now    male  23                        55\n",
       "7               Buy now    male  33                        34\n",
       "8             Buy later  female  27                        28\n",
       "9             Buy later  female  27                        15\n",
       "10            Buy later    male  48                       110\n",
       "11            Buy later    male  34                        28\n",
       "12            Buy later    male  32                        11\n",
       "13            Buy later    male  66                        32\n",
       "14            Buy later    male  24                        23\n",
       "15            Buy later  female  34                        44\n",
       "16   Don't buy anything  female  27                        55\n",
       "17   Don't buy anything  female  34                        65\n",
       "18   Don't buy anything    male  55                        56\n",
       "19   Don't buy anything    male  65                        80"
      ]
     },
     "execution_count": 3,
     "metadata": {},
     "output_type": "execute_result"
    }
   ],
   "source": [
    "data = pd.read_csv('purchasing_behaviour_noisy.csv')\n",
    "data.head(20)"
   ]
  },
  {
   "cell_type": "code",
   "execution_count": 4,
   "id": "a09f481a",
   "metadata": {},
   "outputs": [
    {
     "name": "stdout",
     "output_type": "stream",
     "text": [
      "<class 'pandas.core.frame.DataFrame'>\n",
      "RangeIndex: 674 entries, 0 to 673\n",
      "Data columns (total 4 columns):\n",
      " #   Column                     Non-Null Count  Dtype \n",
      "---  ------                     --------------  ----- \n",
      " 0   Purchasing behaviour       555 non-null    object\n",
      " 1   Gender                     512 non-null    object\n",
      " 2   Age                        641 non-null    object\n",
      " 3   Time spent in online shop  628 non-null    object\n",
      "dtypes: object(4)\n",
      "memory usage: 21.2+ KB\n"
     ]
    }
   ],
   "source": [
    "data.info()"
   ]
  },
  {
   "cell_type": "code",
   "execution_count": 5,
   "id": "f58a779e",
   "metadata": {},
   "outputs": [
    {
     "data": {
      "text/html": [
       "<div>\n",
       "<style scoped>\n",
       "    .dataframe tbody tr th:only-of-type {\n",
       "        vertical-align: middle;\n",
       "    }\n",
       "\n",
       "    .dataframe tbody tr th {\n",
       "        vertical-align: top;\n",
       "    }\n",
       "\n",
       "    .dataframe thead th {\n",
       "        text-align: right;\n",
       "    }\n",
       "</style>\n",
       "<table border=\"1\" class=\"dataframe\">\n",
       "  <thead>\n",
       "    <tr style=\"text-align: right;\">\n",
       "      <th></th>\n",
       "      <th>Purchasing behaviour</th>\n",
       "      <th>Gender</th>\n",
       "      <th>Age</th>\n",
       "      <th>Time spent in online shop</th>\n",
       "    </tr>\n",
       "  </thead>\n",
       "  <tbody>\n",
       "    <tr>\n",
       "      <th>count</th>\n",
       "      <td>555</td>\n",
       "      <td>512</td>\n",
       "      <td>641</td>\n",
       "      <td>628</td>\n",
       "    </tr>\n",
       "    <tr>\n",
       "      <th>unique</th>\n",
       "      <td>5</td>\n",
       "      <td>3</td>\n",
       "      <td>101</td>\n",
       "      <td>135</td>\n",
       "    </tr>\n",
       "    <tr>\n",
       "      <th>top</th>\n",
       "      <td>Don't buy anything</td>\n",
       "      <td>male</td>\n",
       "      <td>18</td>\n",
       "      <td>76</td>\n",
       "    </tr>\n",
       "    <tr>\n",
       "      <th>freq</th>\n",
       "      <td>123</td>\n",
       "      <td>187</td>\n",
       "      <td>17</td>\n",
       "      <td>16</td>\n",
       "    </tr>\n",
       "  </tbody>\n",
       "</table>\n",
       "</div>"
      ],
      "text/plain": [
       "       Purchasing behaviour Gender  Age Time spent in online shop\n",
       "count                   555    512  641                       628\n",
       "unique                    5      3  101                       135\n",
       "top      Don't buy anything   male   18                        76\n",
       "freq                    123    187   17                        16"
      ]
     },
     "execution_count": 5,
     "metadata": {},
     "output_type": "execute_result"
    }
   ],
   "source": [
    "data.describe(include= 'all')"
   ]
  },
  {
   "cell_type": "code",
   "execution_count": 6,
   "id": "8ad67417",
   "metadata": {},
   "outputs": [
    {
     "data": {
      "text/html": [
       "<div>\n",
       "<style scoped>\n",
       "    .dataframe tbody tr th:only-of-type {\n",
       "        vertical-align: middle;\n",
       "    }\n",
       "\n",
       "    .dataframe tbody tr th {\n",
       "        vertical-align: top;\n",
       "    }\n",
       "\n",
       "    .dataframe thead th {\n",
       "        text-align: right;\n",
       "    }\n",
       "</style>\n",
       "<table border=\"1\" class=\"dataframe\">\n",
       "  <thead>\n",
       "    <tr style=\"text-align: right;\">\n",
       "      <th></th>\n",
       "      <th>Purchasing behaviour</th>\n",
       "      <th>Gender</th>\n",
       "      <th>Age</th>\n",
       "      <th>Time spent in online shop</th>\n",
       "    </tr>\n",
       "  </thead>\n",
       "  <tbody>\n",
       "    <tr>\n",
       "      <th>count</th>\n",
       "      <td>555</td>\n",
       "      <td>512</td>\n",
       "      <td>641</td>\n",
       "      <td>628</td>\n",
       "    </tr>\n",
       "    <tr>\n",
       "      <th>unique</th>\n",
       "      <td>5</td>\n",
       "      <td>3</td>\n",
       "      <td>101</td>\n",
       "      <td>135</td>\n",
       "    </tr>\n",
       "    <tr>\n",
       "      <th>top</th>\n",
       "      <td>Don't buy anything</td>\n",
       "      <td>male</td>\n",
       "      <td>18</td>\n",
       "      <td>76</td>\n",
       "    </tr>\n",
       "    <tr>\n",
       "      <th>freq</th>\n",
       "      <td>123</td>\n",
       "      <td>187</td>\n",
       "      <td>17</td>\n",
       "      <td>16</td>\n",
       "    </tr>\n",
       "  </tbody>\n",
       "</table>\n",
       "</div>"
      ],
      "text/plain": [
       "       Purchasing behaviour Gender  Age Time spent in online shop\n",
       "count                   555    512  641                       628\n",
       "unique                    5      3  101                       135\n",
       "top      Don't buy anything   male   18                        76\n",
       "freq                    123    187   17                        16"
      ]
     },
     "execution_count": 6,
     "metadata": {},
     "output_type": "execute_result"
    }
   ],
   "source": [
    "data.describe()"
   ]
  },
  {
   "cell_type": "code",
   "execution_count": 7,
   "id": "a2dabe5b",
   "metadata": {},
   "outputs": [
    {
     "data": {
      "text/plain": [
       "(674, 4)"
      ]
     },
     "execution_count": 7,
     "metadata": {},
     "output_type": "execute_result"
    }
   ],
   "source": [
    "data.shape"
   ]
  },
  {
   "cell_type": "code",
   "execution_count": 8,
   "id": "42e782a2",
   "metadata": {},
   "outputs": [
    {
     "data": {
      "text/plain": [
       "Purchasing behaviour         119\n",
       "Gender                       162\n",
       "Age                           33\n",
       "Time spent in online shop     46\n",
       "dtype: int64"
      ]
     },
     "execution_count": 8,
     "metadata": {},
     "output_type": "execute_result"
    }
   ],
   "source": [
    "data.isnull().sum()"
   ]
  },
  {
   "cell_type": "code",
   "execution_count": 9,
   "id": "16e69eb6",
   "metadata": {},
   "outputs": [
    {
     "data": {
      "text/plain": [
       "Purchasing behaviour           5\n",
       "Gender                         3\n",
       "Age                          101\n",
       "Time spent in online shop    135\n",
       "dtype: int64"
      ]
     },
     "execution_count": 9,
     "metadata": {},
     "output_type": "execute_result"
    }
   ],
   "source": [
    "data.nunique()"
   ]
  },
  {
   "cell_type": "code",
   "execution_count": 10,
   "id": "4d70d593",
   "metadata": {},
   "outputs": [
    {
     "name": "stdout",
     "output_type": "stream",
     "text": [
      "Purchasing behaviour\n",
      "Don't buy anything    123\n",
      "NaN                   119\n",
      "Buy now               117\n",
      "Buy now!!             114\n",
      "Buy later             113\n",
      "                       88\n",
      "Name: count, dtype: int64\n"
     ]
    }
   ],
   "source": [
    "print(data['Purchasing behaviour'].value_counts(dropna=False))"
   ]
  },
  {
   "cell_type": "markdown",
   "id": "27a2f590",
   "metadata": {},
   "source": [
    "## Removing Noise From Data one by one"
   ]
  },
  {
   "cell_type": "markdown",
   "id": "748f1a86",
   "metadata": {},
   "source": [
    "### 2 — Normalize column names & keep a snapshot"
   ]
  },
  {
   "cell_type": "code",
   "execution_count": 11,
   "id": "d5d6dd12",
   "metadata": {},
   "outputs": [],
   "source": [
    "data.columns = data.columns.str.strip().str.lower().str.replace(' ','_')\n",
    "data_before = data.copy"
   ]
  },
  {
   "cell_type": "code",
   "execution_count": 12,
   "id": "924092b0",
   "metadata": {},
   "outputs": [
    {
     "data": {
      "text/html": [
       "<div>\n",
       "<style scoped>\n",
       "    .dataframe tbody tr th:only-of-type {\n",
       "        vertical-align: middle;\n",
       "    }\n",
       "\n",
       "    .dataframe tbody tr th {\n",
       "        vertical-align: top;\n",
       "    }\n",
       "\n",
       "    .dataframe thead th {\n",
       "        text-align: right;\n",
       "    }\n",
       "</style>\n",
       "<table border=\"1\" class=\"dataframe\">\n",
       "  <thead>\n",
       "    <tr style=\"text-align: right;\">\n",
       "      <th></th>\n",
       "      <th>purchasing_behaviour</th>\n",
       "      <th>gender</th>\n",
       "      <th>age</th>\n",
       "      <th>time_spent_in_online_shop</th>\n",
       "    </tr>\n",
       "  </thead>\n",
       "  <tbody>\n",
       "    <tr>\n",
       "      <th>0</th>\n",
       "      <td>Buy now</td>\n",
       "      <td>female</td>\n",
       "      <td>22</td>\n",
       "      <td>40</td>\n",
       "    </tr>\n",
       "    <tr>\n",
       "      <th>1</th>\n",
       "      <td>Buy now</td>\n",
       "      <td>female</td>\n",
       "      <td>25</td>\n",
       "      <td>23</td>\n",
       "    </tr>\n",
       "    <tr>\n",
       "      <th>2</th>\n",
       "      <td>Buy now</td>\n",
       "      <td>male</td>\n",
       "      <td>18</td>\n",
       "      <td>12</td>\n",
       "    </tr>\n",
       "    <tr>\n",
       "      <th>3</th>\n",
       "      <td>Buy now</td>\n",
       "      <td>male</td>\n",
       "      <td>45</td>\n",
       "      <td>28</td>\n",
       "    </tr>\n",
       "    <tr>\n",
       "      <th>4</th>\n",
       "      <td>Buy now</td>\n",
       "      <td>female</td>\n",
       "      <td>12</td>\n",
       "      <td>43</td>\n",
       "    </tr>\n",
       "  </tbody>\n",
       "</table>\n",
       "</div>"
      ],
      "text/plain": [
       "  purchasing_behaviour  gender age time_spent_in_online_shop\n",
       "0              Buy now  female  22                        40\n",
       "1              Buy now  female  25                        23\n",
       "2              Buy now    male  18                        12\n",
       "3              Buy now    male  45                        28\n",
       "4              Buy now  female  12                        43"
      ]
     },
     "execution_count": 12,
     "metadata": {},
     "output_type": "execute_result"
    }
   ],
   "source": [
    "data.head()"
   ]
  },
  {
   "cell_type": "markdown",
   "id": "4c2e8fef",
   "metadata": {},
   "source": [
    "### 3 — Clean categorical text (strip, lowercase, convert blanks to NaN)"
   ]
  },
  {
   "cell_type": "code",
   "execution_count": 13,
   "id": "91c41f91",
   "metadata": {},
   "outputs": [
    {
     "name": "stdout",
     "output_type": "stream",
     "text": [
      "purchasing_behaviour\n",
      "buy now               231\n",
      "NaN                   207\n",
      "don't buy anything    123\n",
      "buy later             113\n",
      "Name: count, dtype: int64\n",
      "gender\n",
      "NaN       326\n",
      "male      187\n",
      "female    161\n",
      "Name: count, dtype: int64\n"
     ]
    }
   ],
   "source": [
    "def clean_text(s):\n",
    "    if pd.isna(s):\n",
    "        return np.nan\n",
    "    s = str(s).strip().lower()\n",
    "    \n",
    "    if s in ['', 'nan', 'none', 'unknown']:\n",
    "        return np.nan\n",
    "    \n",
    "    # normalize common noisy forms\n",
    "    s = s.replace('buy now!!', 'buy now')\n",
    "    s = s.replace('buynow', 'buy now')\n",
    "    s = s.replace(\"don't\", \"don't\")\n",
    "    return s\n",
    "\n",
    "data['purchasing_behaviour'] = data['purchasing_behaviour'].apply(clean_text)\n",
    "\n",
    "data['gender'] = data['gender'].apply(lambda x: clean_text(x))\n",
    "print(data['purchasing_behaviour'].value_counts(dropna = False))\n",
    "print(data['gender'].value_counts(dropna = False))"
   ]
  },
  {
   "cell_type": "markdown",
   "id": "ea028c6b",
   "metadata": {},
   "source": [
    "### 4 — Convert numeric columns to numeric (coerce invalid → NaN)"
   ]
  },
  {
   "cell_type": "code",
   "execution_count": 14,
   "id": "2bf205ba",
   "metadata": {},
   "outputs": [
    {
     "name": "stdout",
     "output_type": "stream",
     "text": [
      "              age  time_spent_in_online_shop\n",
      "count  631.000000                 621.000000\n",
      "mean    50.748019                  78.737520\n",
      "std     25.558241                 127.942378\n",
      "min     -5.000000                   5.000000\n",
      "25%     32.000000                  34.000000\n",
      "50%     49.000000                  62.000000\n",
      "75%     70.000000                  91.000000\n",
      "max    150.000000                 999.000000\n"
     ]
    }
   ],
   "source": [
    "data['age'] = pd.to_numeric(data['age'], errors='coerce')\n",
    "data['time_spent_in_online_shop'] = pd.to_numeric(data['time_spent_in_online_shop'], errors='coerce')\n",
    "\n",
    "print(data[['age', 'time_spent_in_online_shop']].describe())"
   ]
  },
  {
   "cell_type": "code",
   "execution_count": 15,
   "id": "1b099da0",
   "metadata": {},
   "outputs": [
    {
     "name": "stdout",
     "output_type": "stream",
     "text": [
      "age                          43\n",
      "time_spent_in_online_shop    53\n",
      "dtype: int64\n"
     ]
    }
   ],
   "source": [
    "print(data[['age', 'time_spent_in_online_shop']].isnull().sum())"
   ]
  },
  {
   "cell_type": "markdown",
   "id": "f6e36643",
   "metadata": {},
   "source": [
    "### 5 — Handle clearly invalid numeric ranges"
   ]
  },
  {
   "cell_type": "code",
   "execution_count": 16,
   "id": "c66c01c9",
   "metadata": {},
   "outputs": [
    {
     "data": {
      "text/html": [
       "<div>\n",
       "<style scoped>\n",
       "    .dataframe tbody tr th:only-of-type {\n",
       "        vertical-align: middle;\n",
       "    }\n",
       "\n",
       "    .dataframe tbody tr th {\n",
       "        vertical-align: top;\n",
       "    }\n",
       "\n",
       "    .dataframe thead th {\n",
       "        text-align: right;\n",
       "    }\n",
       "</style>\n",
       "<table border=\"1\" class=\"dataframe\">\n",
       "  <thead>\n",
       "    <tr style=\"text-align: right;\">\n",
       "      <th></th>\n",
       "      <th>purchasing_behaviour</th>\n",
       "      <th>gender</th>\n",
       "      <th>age</th>\n",
       "      <th>time_spent_in_online_shop</th>\n",
       "    </tr>\n",
       "  </thead>\n",
       "  <tbody>\n",
       "    <tr>\n",
       "      <th>35</th>\n",
       "      <td>buy now</td>\n",
       "      <td>male</td>\n",
       "      <td>71.0</td>\n",
       "      <td>999.0</td>\n",
       "    </tr>\n",
       "    <tr>\n",
       "      <th>105</th>\n",
       "      <td>buy now</td>\n",
       "      <td>NaN</td>\n",
       "      <td>NaN</td>\n",
       "      <td>999.0</td>\n",
       "    </tr>\n",
       "    <tr>\n",
       "      <th>310</th>\n",
       "      <td>buy later</td>\n",
       "      <td>male</td>\n",
       "      <td>82.0</td>\n",
       "      <td>999.0</td>\n",
       "    </tr>\n",
       "    <tr>\n",
       "      <th>346</th>\n",
       "      <td>don't buy anything</td>\n",
       "      <td>NaN</td>\n",
       "      <td>77.0</td>\n",
       "      <td>999.0</td>\n",
       "    </tr>\n",
       "    <tr>\n",
       "      <th>370</th>\n",
       "      <td>buy now</td>\n",
       "      <td>NaN</td>\n",
       "      <td>56.0</td>\n",
       "      <td>999.0</td>\n",
       "    </tr>\n",
       "  </tbody>\n",
       "</table>\n",
       "</div>"
      ],
      "text/plain": [
       "    purchasing_behaviour gender   age  time_spent_in_online_shop\n",
       "35               buy now   male  71.0                      999.0\n",
       "105              buy now    NaN   NaN                      999.0\n",
       "310            buy later   male  82.0                      999.0\n",
       "346   don't buy anything    NaN  77.0                      999.0\n",
       "370              buy now    NaN  56.0                      999.0"
      ]
     },
     "metadata": {},
     "output_type": "display_data"
    }
   ],
   "source": [
    "# invalidate impossible ages and negative times\n",
    "data.loc[(data['age'] < 12) | (data['age'] > 100), 'age'] = np.nan\n",
    "data.loc[data['time_spent_in_online_shop'] < 0, 'time_spent_in_online_shop'] = np.nan\n",
    "\n",
    "# inspect rows with extreme values\n",
    "display(data.loc[data['time_spent_in_online_shop'] > 500].head())\n"
   ]
  },
  {
   "cell_type": "markdown",
   "id": "e0f61f87",
   "metadata": {},
   "source": [
    "### 6 -- Duplicates"
   ]
  },
  {
   "cell_type": "code",
   "execution_count": 17,
   "id": "4343a430",
   "metadata": {},
   "outputs": [
    {
     "name": "stdout",
     "output_type": "stream",
     "text": [
      "rows before deleteing dup.:  674\n",
      "total duplicated rows (any duplicate):  110\n",
      "rows after dedup:  618\n"
     ]
    }
   ],
   "source": [
    "print(\"rows before deleteing dup.: \", len(data))\n",
    "\n",
    "dups = data.duplicated(keep=False).sum()\n",
    "print('total duplicated rows (any duplicate): ', dups)\n",
    "data = data.drop_duplicates()\n",
    "\n",
    "print(\"rows after dedup: \", len(data))"
   ]
  },
  {
   "cell_type": "markdown",
   "id": "2a0f0c43",
   "metadata": {},
   "source": [
    "Good question 🙂 — let’s go step by step.\n",
    "\n",
    "---\n",
    "\n",
    "### 1. What is **Winsorizing**?\n",
    "\n",
    "* Winsorizing is a way to **handle extreme values (outliers)** without deleting rows.\n",
    "* Instead of dropping them, you **“cap”** the values at a chosen percentile.\n",
    "\n",
    "👉 Example: if you Winsorize at the 5th and 95th percentiles:\n",
    "\n",
    "* Any value **below the 5th percentile** is replaced with the 5th percentile value.\n",
    "* Any value **above the 95th percentile** is replaced with the 95th percentile value.\n",
    "\n",
    "This keeps the dataset size the same but reduces the effect of outliers on models.\n",
    "\n",
    "---\n",
    "\n",
    "### 2. Small numeric example\n",
    "\n",
    "Suppose you have ages:\n",
    "\n",
    "```\n",
    "[18, 22, 24, 25, 27, 29, 30, 31, 35, 120]\n",
    "```\n",
    "\n",
    "Clearly, `120` looks like an outlier.\n",
    "\n",
    "* **Without Winsorize**:\n",
    "  Mean age = \\~36.1 (skewed upward by the outlier).\n",
    "\n",
    "* **Winsorize at 5% and 95%**:\n",
    "\n",
    "  * 5th percentile ≈ 19\n",
    "  * 95th percentile ≈ 35\n",
    "    Replace:\n",
    "\n",
    "  ```\n",
    "  [18 → 19, 22, 24, 25, 27, 29, 30, 31, 35, 120 → 35]\n",
    "  ```\n",
    "\n",
    "  New dataset:\n",
    "\n",
    "  ```\n",
    "  [19, 22, 24, 25, 27, 29, 30, 31, 35, 35]\n",
    "  ```\n",
    "\n",
    "  Mean age ≈ 27.7 (much closer to the real “center” of ages).\n",
    "\n",
    "---\n",
    "\n",
    "### 3. Pandas Example\n",
    "\n",
    "```python\n",
    "import pandas as pd\n",
    "\n",
    "data = pd.Series([18, 22, 24, 25, 27, 29, 30, 31, 35, 120])\n",
    "\n",
    "# calculate percentiles\n",
    "low = data.quantile(0.05)  # 5th percentile\n",
    "high = data.quantile(0.95) # 95th percentile\n",
    "\n",
    "# winsorize using clip\n",
    "winsorized = data.clip(lower=low, upper=high)\n",
    "\n",
    "print(\"Original:\", list(data))\n",
    "print(\"Winsorized:\", list(winsorized))\n",
    "```\n",
    "\n",
    "Output:\n",
    "\n",
    "```\n",
    "Original:   [18, 22, 24, 25, 27, 29, 30, 31, 35, 120]\n",
    "Winsorized: [19, 22, 24, 25, 27, 29, 30, 31, 35, 35]\n",
    "```\n",
    "\n",
    "---\n",
    "\n",
    "### 4. When to use Winsorizing\n",
    "\n",
    "* ✔️ When you don’t want to **drop rows** (e.g., small datasets).\n",
    "* ✔️ When extreme values are likely **measurement errors** or not relevant.\n",
    "* ❌ If outliers are **real and meaningful** (like “time spent = 300 minutes” in an online shop for a very engaged user), you might not want to Winsorize — you’d lose useful info.\n",
    "\n",
    "---\n",
    "\n",
    "🔍 Quick check for you:\n",
    "Imagine you have this series of times spent in an online shop:\n",
    "\n",
    "```\n",
    "[10, 12, 15, 20, 22, 30, 35, 40, 999]\n",
    "```\n",
    "\n",
    "👉 If we Winsorize at 5% and 95%, what will the **999** turn into?\n",
    "(Think: what’s the 95th percentile here?)\n"
   ]
  },
  {
   "cell_type": "markdown",
   "id": "3406c86b",
   "metadata": {},
   "source": [
    "### 7 — Outlier handling (IQR or clipping)\n",
    "\n",
    "Two approaches: remove extreme outliers or winsorize/clip to extreme percentiles. Example IQR removal (drop rows outside 1.5*IQR) or clipping at 1st/99th percentile.\n",
    "\n",
    "IQR-based removal:\n",
    "```\n",
    "for col in ['age','time_spent_in_online_shop']:\n",
    "    Q1 = df[col].quantile(0.25)\n",
    "    Q3 = df[col].quantile(0.75)\n",
    "    IQR = Q3 - Q1\n",
    "    lower, upper = Q1 - 1.5*IQR, Q3 + 1.5*IQR\n",
    "    # keep rows where value is NaN (we'll impute later) or within bounds\n",
    "    df = df[df[col].isna() | ((df[col] >= lower) & (df[col] <= upper))]\n",
    "\n",
    "```\n",
    "Winsorize (clip at 1% and 99%):\n",
    "```\n",
    "for col in ['age','time_spent_in_online_shop']:\n",
    "    low = df[col].quantile(0.01)\n",
    "    high = df[col].quantile(0.99)\n",
    "    df[col] = df[col].clip(lower=low, upper=high)\n",
    "```\n",
    "\n",
    "Which to use: clipping keeps rows but reduces influence of extremes; removal discards rows (use carefully if little data)."
   ]
  },
  {
   "cell_type": "code",
   "execution_count": 18,
   "id": "190cbcfa",
   "metadata": {},
   "outputs": [
    {
     "name": "stderr",
     "output_type": "stream",
     "text": [
      "/tmp/ipykernel_8671/4109386106.py:4: SettingWithCopyWarning: \n",
      "A value is trying to be set on a copy of a slice from a DataFrame.\n",
      "Try using .loc[row_indexer,col_indexer] = value instead\n",
      "\n",
      "See the caveats in the documentation: https://pandas.pydata.org/pandas-docs/stable/user_guide/indexing.html#returning-a-view-versus-a-copy\n",
      "  data[col] = data[col].clip(lower = low, upper = high)\n",
      "/tmp/ipykernel_8671/4109386106.py:4: SettingWithCopyWarning: \n",
      "A value is trying to be set on a copy of a slice from a DataFrame.\n",
      "Try using .loc[row_indexer,col_indexer] = value instead\n",
      "\n",
      "See the caveats in the documentation: https://pandas.pydata.org/pandas-docs/stable/user_guide/indexing.html#returning-a-view-versus-a-copy\n",
      "  data[col] = data[col].clip(lower = low, upper = high)\n"
     ]
    }
   ],
   "source": [
    "for col in ['age', 'time_spent_in_online_shop']:\n",
    "    low = data[col].quantile(0.01)\n",
    "    high = data[col].quantile(0.99)\n",
    "    data[col] = data[col].clip(lower = low, upper = high)"
   ]
  },
  {
   "cell_type": "markdown",
   "id": "f053bb11",
   "metadata": {},
   "source": [
    "### 8 — Missing value strategy (drop vs impute)"
   ]
  },
  {
   "cell_type": "code",
   "execution_count": 19,
   "id": "58a08975",
   "metadata": {},
   "outputs": [
    {
     "name": "stderr",
     "output_type": "stream",
     "text": [
      "/tmp/ipykernel_8671/2571708072.py:5: FutureWarning: A value is trying to be set on a copy of a DataFrame or Series through chained assignment using an inplace method.\n",
      "The behavior will change in pandas 3.0. This inplace method will never work because the intermediate object on which we are setting values always behaves as a copy.\n",
      "\n",
      "For example, when doing 'df[col].method(value, inplace=True)', try using 'df.method({col: value}, inplace=True)' or df[col] = df[col].method(value) instead, to perform the operation inplace on the original object.\n",
      "\n",
      "\n",
      "  data['age'].fillna(data['age'].median(), inplace=True)\n",
      "/tmp/ipykernel_8671/2571708072.py:6: FutureWarning: A value is trying to be set on a copy of a DataFrame or Series through chained assignment using an inplace method.\n",
      "The behavior will change in pandas 3.0. This inplace method will never work because the intermediate object on which we are setting values always behaves as a copy.\n",
      "\n",
      "For example, when doing 'df[col].method(value, inplace=True)', try using 'df.method({col: value}, inplace=True)' or df[col] = df[col].method(value) instead, to perform the operation inplace on the original object.\n",
      "\n",
      "\n",
      "  data['time_spent_in_online_shop'].fillna(data['time_spent_in_online_shop'].median(), inplace=True)\n",
      "/tmp/ipykernel_8671/2571708072.py:7: FutureWarning: A value is trying to be set on a copy of a DataFrame or Series through chained assignment using an inplace method.\n",
      "The behavior will change in pandas 3.0. This inplace method will never work because the intermediate object on which we are setting values always behaves as a copy.\n",
      "\n",
      "For example, when doing 'df[col].method(value, inplace=True)', try using 'df.method({col: value}, inplace=True)' or df[col] = df[col].method(value) instead, to perform the operation inplace on the original object.\n",
      "\n",
      "\n",
      "  data['gender'].fillna(data['gender'].mode().iloc[0], inplace=True)\n"
     ]
    }
   ],
   "source": [
    "# drop rows missing the target\n",
    "data = data[data['purchasing_behaviour'].notna()].copy()\n",
    "\n",
    "# simple imputation using pandas\n",
    "data['age'].fillna(data['age'].median(), inplace=True)\n",
    "data['time_spent_in_online_shop'].fillna(data['time_spent_in_online_shop'].median(), inplace=True)\n",
    "data['gender'].fillna(data['gender'].mode().iloc[0], inplace=True)\n"
   ]
  },
  {
   "cell_type": "markdown",
   "id": "4a56caa0",
   "metadata": {},
   "source": [
    "### 9 — Encode categoricals for modeling\n",
    "\n",
    "Decide the target. For a binary logistic regression example, map buy now → 1, others → 0."
   ]
  },
  {
   "cell_type": "code",
   "execution_count": 21,
   "id": "862ddcc5",
   "metadata": {},
   "outputs": [],
   "source": [
    "# Create Binary Target\n",
    "data['target_buy_now'] = (data['purchasing_behaviour'] == 'buy now').astype(int)\n",
    "\n",
    "# encode gender\n",
    "data['gender_code'] = data['gender'].map({'male':0, 'female':1})\n"
   ]
  },
  {
   "cell_type": "markdown",
   "id": "e05a2a08",
   "metadata": {},
   "source": [
    "## Now Perform Logistice Regression"
   ]
  },
  {
   "cell_type": "code",
   "execution_count": 22,
   "id": "26db0931",
   "metadata": {},
   "outputs": [],
   "source": [
    "# final features\n",
    "features = ['gender_code','age', 'time_spent_in_online_shop']\n",
    "x = data[features]\n",
    "y = data['target_buy_now']"
   ]
  },
  {
   "cell_type": "code",
   "execution_count": 24,
   "id": "40a9db53",
   "metadata": {},
   "outputs": [],
   "source": [
    "from sklearn.linear_model import LogisticRegression\n",
    "from sklearn.pipeline import Pipeline\n",
    "X_train, X_test, y_train, y_test = train_test_split(x, y, stratify=y, test_size=0.2, random_state=42)\n",
    "\n",
    "pipe = Pipeline([\n",
    "    ('scaler', StandardScaler()),\n",
    "    ('clf', LogisticRegression(max_iter=1000))\n",
    "])"
   ]
  },
  {
   "cell_type": "code",
   "execution_count": 25,
   "id": "78efcb3a",
   "metadata": {},
   "outputs": [
    {
     "name": "stdout",
     "output_type": "stream",
     "text": [
      "              precision    recall  f1-score   support\n",
      "\n",
      "           0       0.52      0.71      0.60        45\n",
      "           1       0.48      0.29      0.36        41\n",
      "\n",
      "    accuracy                           0.51        86\n",
      "   macro avg       0.50      0.50      0.48        86\n",
      "weighted avg       0.50      0.51      0.49        86\n",
      "\n",
      "accuracy: 0.5116279069767442\n",
      "roc_auc: 0.45772357723577234\n"
     ]
    }
   ],
   "source": [
    "pipe.fit(X_train, y_train)\n",
    "y_pred = pipe.predict(X_test)\n",
    "print(classification_report(y_test, y_pred))\n",
    "print(\"accuracy:\", accuracy_score(y_test, y_pred))\n",
    "print(\"roc_auc:\", roc_auc_score(y_test, pipe.predict_proba(X_test)[:,1]))"
   ]
  },
  {
   "cell_type": "code",
   "execution_count": 27,
   "id": "6f0d4698",
   "metadata": {},
   "outputs": [],
   "source": [
    "data.to_csv(\"purchasing_behaviour_cleaned.csv\", index=False)\n"
   ]
  },
  {
   "cell_type": "code",
   "execution_count": 33,
   "id": "d88423c1",
   "metadata": {},
   "outputs": [
    {
     "name": "stdout",
     "output_type": "stream",
     "text": [
      "\n",
      "=== Evaluation metrics on test set ===\n",
      "accuracy: 0.5116279069767442\n",
      "precision: 0.48\n",
      "recall: 0.2926829268292683\n",
      "f1: 0.36363636363636365\n",
      "roc_auc: 0.5018970189701897\n",
      "\n",
      "Confusion matrix:\n",
      " [[32 13]\n",
      " [29 12]]\n",
      "\n",
      "Classification report:\n",
      "               precision    recall  f1-score   support\n",
      "\n",
      "           0       0.52      0.71      0.60        45\n",
      "           1       0.48      0.29      0.36        41\n",
      "\n",
      "    accuracy                           0.51        86\n",
      "   macro avg       0.50      0.50      0.48        86\n",
      "weighted avg       0.50      0.51      0.49        86\n",
      "\n"
     ]
    }
   ],
   "source": [
    "# Step 2: convert probabilities to binary predictions\n",
    "y_pred = (y_pred >= 0.5).astype(int)\n",
    "\n",
    "# Step 3: evaluate\n",
    "print(\"\\n=== Evaluation metrics on test set ===\")\n",
    "print(\"accuracy:\", accuracy_score(y_test, y_pred))\n",
    "print(\"precision:\", precision_score(y_test, y_pred))\n",
    "print(\"recall:\", recall_score(y_test, y_pred))\n",
    "print(\"f1:\", f1_score(y_test, y_pred))\n",
    "print(\"roc_auc:\", roc_auc_score(y_test, y_pred))\n",
    "\n",
    "print(\"\\nConfusion matrix:\\n\", confusion_matrix(y_test, y_pred))\n",
    "print(\"\\nClassification report:\\n\", classification_report(y_test, y_pred))"
   ]
  },
  {
   "cell_type": "code",
   "execution_count": 35,
   "id": "e5d117f2",
   "metadata": {},
   "outputs": [
    {
     "data": {
      "text/plain": [
       "<Axes: xlabel='Predicted', ylabel='Actual'>"
      ]
     },
     "execution_count": 35,
     "metadata": {},
     "output_type": "execute_result"
    },
    {
     "data": {
      "image/png": "[encoded data removed]",
      "text/plain": [
       "<Figure size 640x480 with 2 Axes>"
      ]
     },
     "metadata": {},
     "output_type": "display_data"
    }
   ],
   "source": [
    "conf_mat = pd.crosstab(y_test, y_pred, rownames=['Actual'], colnames=['Predicted'])\n",
    "sns.heatmap(conf_mat, annot=True, cmap='plasma')"
   ]
  },
  {
   "cell_type": "code",
   "execution_count": 36,
   "id": "f4b7b95f",
   "metadata": {},
   "outputs": [
    {
     "data": {
      "image/png": "[encoded data removed]",
      "text/plain": [
       "<Figure size 600x600 with 1 Axes>"
      ]
     },
     "metadata": {},
     "output_type": "display_data"
    }
   ],
   "source": [
    "import matplotlib.pyplot as plt\n",
    "from sklearn.metrics import roc_curve, auc\n",
    "\n",
    "# 1. Get false positive rate (fpr), true positive rate (tpr), and thresholds\n",
    "fpr, tpr, thresholds = roc_curve(y_test, y_pred)\n",
    "\n",
    "# 2. Compute Area Under Curve (AUC)\n",
    "roc_auc = auc(fpr, tpr)\n",
    "\n",
    "# 3. Plot ROC curve\n",
    "plt.figure(figsize=(6,6))\n",
    "plt.plot(fpr, tpr, color=\"blue\", lw=2, label=f\"ROC curve (AUC = {roc_auc:.2f})\")\n",
    "plt.plot([0, 1], [0, 1], color=\"red\", lw=2, linestyle=\"--\", label=\"Random Guess\")\n",
    "\n",
    "# 4. Format the plot\n",
    "plt.xlim([0.0, 1.0])\n",
    "plt.ylim([0.0, 1.05])\n",
    "plt.xlabel(\"False Positive Rate (1 - Specificity)\")\n",
    "plt.ylabel(\"True Positive Rate (Sensitivity / Recall)\")\n",
    "plt.title(\"Receiver Operating Characteristic (ROC) Curve\")\n",
    "plt.legend(loc=\"lower right\")\n",
    "plt.grid(True)\n",
    "plt.show()"
   ]
  },
  {
   "cell_type": "code",
   "execution_count": 39,
   "id": "52024345",
   "metadata": {},
   "outputs": [
    {
     "data": {
      "image/png": "[encoded data removed]",
      "text/plain": [
       "<Figure size 600x600 with 1 Axes>"
      ]
     },
     "metadata": {},
     "output_type": "display_data"
    }
   ],
   "source": [
    "import matplotlib.pyplot as plt\n",
    "from sklearn.metrics import precision_recall_curve, average_precision_score\n",
    "\n",
    "# 1. Get precision, recall, and thresholds\n",
    "precision, recall, thresholds = precision_recall_curve(y_test, y_pred)\n",
    "\n",
    "# 2. Compute Average Precision (AP)\n",
    "ap = average_precision_score(y_test, y_pred)\n",
    "\n",
    "# 3. Plot Precision-Recall curve\n",
    "plt.figure(figsize=(6,6))\n",
    "plt.plot(recall, precision, color=\"green\", lw=2, label=f\"PR curve (AP = {ap:.2f})\")\n",
    "\n",
    "# 4. Format the plot\n",
    "plt.xlim([0.0, 1.0])\n",
    "plt.ylim([0.0, 1.05])\n",
    "plt.xlabel(\"Recall (Sensitivity)\")\n",
    "plt.ylabel(\"Precision (Positive Predictive Value)\")\n",
    "plt.title(\"Precision-Recall Curve\")\n",
    "plt.legend(loc=\"lower left\")\n",
    "plt.grid(True)\n",
    "plt.show()\n"
   ]
  }
 ],
 "metadata": {
  "kernelspec": {
   "display_name": "venv",
   "language": "python",
   "name": "python3"
  },
  "language_info": {
   "codemirror_mode": {
    "name": "ipython",
    "version": 3
   },
   "file_extension": ".py",
   "mimetype": "text/x-python",
   "name": "python",
   "nbconvert_exporter": "python",
   "pygments_lexer": "ipython3",
   "version": "3.12.3"
  }
 },
 "nbformat": 4,
 "nbformat_minor": 5
}
