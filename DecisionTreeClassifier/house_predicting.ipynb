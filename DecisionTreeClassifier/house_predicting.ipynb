{
 "cells": [
  {
   "cell_type": "code",
   "execution_count": 1,
   "metadata": {},
   "outputs": [],
   "source": [
    "import pandas as pd \n",
    "import numpy as np \n",
    "import matplotlib.pyplot as plt \n",
    "import seaborn as sns\n",
    "from sklearn.model_selection import train_test_split\n",
    "from sklearn.tree import DecisionTreeClassifier\n",
    "from sklearn import metrics"
   ]
  },
  {
   "cell_type": "code",
   "execution_count": 2,
   "metadata": {},
   "outputs": [
    {
     "data": {
      "text/html": [
       "<div>\n",
       "<style scoped>\n",
       "    .dataframe tbody tr th:only-of-type {\n",
       "        vertical-align: middle;\n",
       "    }\n",
       "\n",
       "    .dataframe tbody tr th {\n",
       "        vertical-align: top;\n",
       "    }\n",
       "\n",
       "    .dataframe thead th {\n",
       "        text-align: right;\n",
       "    }\n",
       "</style>\n",
       "<table border=\"1\" class=\"dataframe\">\n",
       "  <thead>\n",
       "    <tr style=\"text-align: right;\">\n",
       "      <th></th>\n",
       "      <th>Age</th>\n",
       "      <th>Income</th>\n",
       "      <th>Height</th>\n",
       "      <th>Pets</th>\n",
       "      <th>Hobby</th>\n",
       "      <th>RandomScore</th>\n",
       "      <th>Buy_House</th>\n",
       "    </tr>\n",
       "  </thead>\n",
       "  <tbody>\n",
       "    <tr>\n",
       "      <th>0</th>\n",
       "      <td>63</td>\n",
       "      <td>126200</td>\n",
       "      <td>165</td>\n",
       "      <td>Dog</td>\n",
       "      <td>Traveling</td>\n",
       "      <td>61.273929</td>\n",
       "      <td>1</td>\n",
       "    </tr>\n",
       "    <tr>\n",
       "      <th>1</th>\n",
       "      <td>20</td>\n",
       "      <td>58607</td>\n",
       "      <td>194</td>\n",
       "      <td>Dog</td>\n",
       "      <td>Traveling</td>\n",
       "      <td>-105.161162</td>\n",
       "      <td>0</td>\n",
       "    </tr>\n",
       "    <tr>\n",
       "      <th>2</th>\n",
       "      <td>46</td>\n",
       "      <td>47550</td>\n",
       "      <td>198</td>\n",
       "      <td>NaN</td>\n",
       "      <td>Reading</td>\n",
       "      <td>-23.066379</td>\n",
       "      <td>0</td>\n",
       "    </tr>\n",
       "    <tr>\n",
       "      <th>3</th>\n",
       "      <td>52</td>\n",
       "      <td>71366</td>\n",
       "      <td>162</td>\n",
       "      <td>Dog</td>\n",
       "      <td>Traveling</td>\n",
       "      <td>-61.197526</td>\n",
       "      <td>1</td>\n",
       "    </tr>\n",
       "    <tr>\n",
       "      <th>4</th>\n",
       "      <td>56</td>\n",
       "      <td>121372</td>\n",
       "      <td>153</td>\n",
       "      <td>Cat</td>\n",
       "      <td>Reading</td>\n",
       "      <td>-85.085226</td>\n",
       "      <td>1</td>\n",
       "    </tr>\n",
       "  </tbody>\n",
       "</table>\n",
       "</div>"
      ],
      "text/plain": [
       "   Age  Income  Height Pets      Hobby  RandomScore  Buy_House\n",
       "0   63  126200     165  Dog  Traveling    61.273929          1\n",
       "1   20   58607     194  Dog  Traveling  -105.161162          0\n",
       "2   46   47550     198  NaN    Reading   -23.066379          0\n",
       "3   52   71366     162  Dog  Traveling   -61.197526          1\n",
       "4   56  121372     153  Cat    Reading   -85.085226          1"
      ]
     },
     "execution_count": 2,
     "metadata": {},
     "output_type": "execute_result"
    }
   ],
   "source": [
    "data = pd.read_csv('noisy_dataset.csv')\n",
    "data.head()"
   ]
  },
  {
   "cell_type": "code",
   "execution_count": 3,
   "metadata": {},
   "outputs": [
    {
     "name": "stdout",
     "output_type": "stream",
     "text": [
      "<class 'pandas.core.frame.DataFrame'>\n",
      "RangeIndex: 5000 entries, 0 to 4999\n",
      "Data columns (total 7 columns):\n",
      " #   Column       Non-Null Count  Dtype  \n",
      "---  ------       --------------  -----  \n",
      " 0   Age          5000 non-null   int64  \n",
      " 1   Income       5000 non-null   int64  \n",
      " 2   Height       5000 non-null   int64  \n",
      " 3   Pets         3282 non-null   object \n",
      " 4   Hobby        5000 non-null   object \n",
      " 5   RandomScore  5000 non-null   float64\n",
      " 6   Buy_House    5000 non-null   int64  \n",
      "dtypes: float64(1), int64(4), object(2)\n",
      "memory usage: 273.6+ KB\n"
     ]
    }
   ],
   "source": [
    "data.info()"
   ]
  },
  {
   "cell_type": "code",
   "execution_count": 5,
   "metadata": {},
   "outputs": [
    {
     "data": {
      "text/html": [
       "<div>\n",
       "<style scoped>\n",
       "    .dataframe tbody tr th:only-of-type {\n",
       "        vertical-align: middle;\n",
       "    }\n",
       "\n",
       "    .dataframe tbody tr th {\n",
       "        vertical-align: top;\n",
       "    }\n",
       "\n",
       "    .dataframe thead th {\n",
       "        text-align: right;\n",
       "    }\n",
       "</style>\n",
       "<table border=\"1\" class=\"dataframe\">\n",
       "  <thead>\n",
       "    <tr style=\"text-align: right;\">\n",
       "      <th></th>\n",
       "      <th>count</th>\n",
       "      <th>unique</th>\n",
       "      <th>top</th>\n",
       "      <th>freq</th>\n",
       "      <th>mean</th>\n",
       "      <th>std</th>\n",
       "      <th>min</th>\n",
       "      <th>25%</th>\n",
       "      <th>50%</th>\n",
       "      <th>75%</th>\n",
       "      <th>max</th>\n",
       "    </tr>\n",
       "  </thead>\n",
       "  <tbody>\n",
       "    <tr>\n",
       "      <th>Age</th>\n",
       "      <td>5000.0</td>\n",
       "      <td>NaN</td>\n",
       "      <td>NaN</td>\n",
       "      <td>NaN</td>\n",
       "      <td>43.5932</td>\n",
       "      <td>14.937615</td>\n",
       "      <td>18.0</td>\n",
       "      <td>31.0</td>\n",
       "      <td>43.0</td>\n",
       "      <td>57.0</td>\n",
       "      <td>69.0</td>\n",
       "    </tr>\n",
       "    <tr>\n",
       "      <th>Income</th>\n",
       "      <td>5000.0</td>\n",
       "      <td>NaN</td>\n",
       "      <td>NaN</td>\n",
       "      <td>NaN</td>\n",
       "      <td>84769.2102</td>\n",
       "      <td>37663.269954</td>\n",
       "      <td>20000.0</td>\n",
       "      <td>51632.0</td>\n",
       "      <td>83704.5</td>\n",
       "      <td>117799.25</td>\n",
       "      <td>149978.0</td>\n",
       "    </tr>\n",
       "    <tr>\n",
       "      <th>Height</th>\n",
       "      <td>5000.0</td>\n",
       "      <td>NaN</td>\n",
       "      <td>NaN</td>\n",
       "      <td>NaN</td>\n",
       "      <td>174.4274</td>\n",
       "      <td>14.323874</td>\n",
       "      <td>150.0</td>\n",
       "      <td>162.0</td>\n",
       "      <td>175.0</td>\n",
       "      <td>187.0</td>\n",
       "      <td>199.0</td>\n",
       "    </tr>\n",
       "    <tr>\n",
       "      <th>Pets</th>\n",
       "      <td>3282</td>\n",
       "      <td>2</td>\n",
       "      <td>Cat</td>\n",
       "      <td>1667</td>\n",
       "      <td>NaN</td>\n",
       "      <td>NaN</td>\n",
       "      <td>NaN</td>\n",
       "      <td>NaN</td>\n",
       "      <td>NaN</td>\n",
       "      <td>NaN</td>\n",
       "      <td>NaN</td>\n",
       "    </tr>\n",
       "    <tr>\n",
       "      <th>Hobby</th>\n",
       "      <td>5000</td>\n",
       "      <td>3</td>\n",
       "      <td>Traveling</td>\n",
       "      <td>1697</td>\n",
       "      <td>NaN</td>\n",
       "      <td>NaN</td>\n",
       "      <td>NaN</td>\n",
       "      <td>NaN</td>\n",
       "      <td>NaN</td>\n",
       "      <td>NaN</td>\n",
       "      <td>NaN</td>\n",
       "    </tr>\n",
       "    <tr>\n",
       "      <th>RandomScore</th>\n",
       "      <td>5000.0</td>\n",
       "      <td>NaN</td>\n",
       "      <td>NaN</td>\n",
       "      <td>NaN</td>\n",
       "      <td>-1.870536</td>\n",
       "      <td>99.817755</td>\n",
       "      <td>-365.568956</td>\n",
       "      <td>-68.284933</td>\n",
       "      <td>-1.592768</td>\n",
       "      <td>66.365399</td>\n",
       "      <td>409.350075</td>\n",
       "    </tr>\n",
       "    <tr>\n",
       "      <th>Buy_House</th>\n",
       "      <td>5000.0</td>\n",
       "      <td>NaN</td>\n",
       "      <td>NaN</td>\n",
       "      <td>NaN</td>\n",
       "      <td>0.5314</td>\n",
       "      <td>0.499063</td>\n",
       "      <td>0.0</td>\n",
       "      <td>0.0</td>\n",
       "      <td>1.0</td>\n",
       "      <td>1.0</td>\n",
       "      <td>1.0</td>\n",
       "    </tr>\n",
       "  </tbody>\n",
       "</table>\n",
       "</div>"
      ],
      "text/plain": [
       "              count unique        top  freq        mean           std  \\\n",
       "Age          5000.0    NaN        NaN   NaN     43.5932     14.937615   \n",
       "Income       5000.0    NaN        NaN   NaN  84769.2102  37663.269954   \n",
       "Height       5000.0    NaN        NaN   NaN    174.4274     14.323874   \n",
       "Pets           3282      2        Cat  1667         NaN           NaN   \n",
       "Hobby          5000      3  Traveling  1697         NaN           NaN   \n",
       "RandomScore  5000.0    NaN        NaN   NaN   -1.870536     99.817755   \n",
       "Buy_House    5000.0    NaN        NaN   NaN      0.5314      0.499063   \n",
       "\n",
       "                    min        25%       50%        75%         max  \n",
       "Age                18.0       31.0      43.0       57.0        69.0  \n",
       "Income          20000.0    51632.0   83704.5  117799.25    149978.0  \n",
       "Height            150.0      162.0     175.0      187.0       199.0  \n",
       "Pets                NaN        NaN       NaN        NaN         NaN  \n",
       "Hobby               NaN        NaN       NaN        NaN         NaN  \n",
       "RandomScore -365.568956 -68.284933 -1.592768  66.365399  409.350075  \n",
       "Buy_House           0.0        0.0       1.0        1.0         1.0  "
      ]
     },
     "execution_count": 5,
     "metadata": {},
     "output_type": "execute_result"
    }
   ],
   "source": [
    "data.describe(include='all').T"
   ]
  },
  {
   "cell_type": "markdown",
   "metadata": {},
   "source": [
    "#### 🔎 Step 2 — Identifying irrelevant/noisy features without domain knowledge\n",
    "2A. Mutual Information (MI)\n",
    "\n",
    "- MI measures how much knowing a feature reduces uncertainty about the target (Buy_House).\n",
    "\n",
    "- If MI ≈ 0 → feature provides no info."
   ]
  },
  {
   "cell_type": "code",
   "execution_count": 6,
   "metadata": {},
   "outputs": [
    {
     "name": "stdout",
     "output_type": "stream",
     "text": [
      "Age                0.035910\n",
      "Income             0.032610\n",
      "Hobby_Traveling    0.006457\n",
      "RandomScore        0.004206\n",
      "Height             0.003817\n",
      "Pets_Dog           0.000104\n",
      "Hobby_Reading      0.000000\n",
      "dtype: float64\n"
     ]
    }
   ],
   "source": [
    "from sklearn.feature_selection import mutual_info_classif\n",
    "\n",
    "x = pd.get_dummies(data.drop(columns= \"Buy_House\"), drop_first= True)\n",
    "y = data['Buy_House']\n",
    "\n",
    "mi = mutual_info_classif(x, y, random_state=0)\n",
    "mi_series = pd.Series(mi, index = x.columns).sort_values(ascending=False)\n",
    "print(mi_series)"
   ]
  },
  {
   "cell_type": "markdown",
   "metadata": {},
   "source": [
    "**2B. Correlation with Target (for numeric features only)**\n",
    "\n",
    "- Helps to see linear relationship with target.\n",
    "\n",
    "- Absolute correlation near 0 → weak influence."
   ]
  },
  {
   "cell_type": "code",
   "execution_count": 8,
   "metadata": {},
   "outputs": [
    {
     "name": "stdout",
     "output_type": "stream",
     "text": [
      "Age            0.192126\n",
      "Income         0.177889\n",
      "RandomScore   -0.002046\n",
      "Height        -0.038634\n",
      "dtype: float64\n"
     ]
    }
   ],
   "source": [
    "num_cols = data.select_dtypes(include='number').drop(columns='Buy_House')\n",
    "corr_with_target = num_cols.corrwith(y).sort_values(ascending= False)\n",
    "print(corr_with_target)\n"
   ]
  },
  {
   "cell_type": "markdown",
   "metadata": {},
   "source": [
    "**2C. Feature Importance from Tree-based Models**\n",
    "\n",
    "- Train a quick RandomForest or DecisionTree.\n",
    "\n",
    "- The model computes how much each feature helped reduce impurity."
   ]
  },
  {
   "cell_type": "code",
   "execution_count": 11,
   "metadata": {},
   "outputs": [
    {
     "name": "stdout",
     "output_type": "stream",
     "text": [
      "Age                0.238731\n",
      "Income             0.307816\n",
      "Height             0.171017\n",
      "RandomScore        0.231860\n",
      "Pets_Dog           0.018028\n",
      "Hobby_Reading      0.015794\n",
      "Hobby_Traveling    0.016755\n",
      "dtype: float64\n"
     ]
    }
   ],
   "source": [
    "from sklearn.ensemble import RandomForestClassifier\n",
    "\n",
    "rf = RandomForestClassifier(n_estimators= 200, random_state=0)\n",
    "rf.fit(x,y)\n",
    "importances = pd.Series(rf.feature_importances_, index=x.columns)\n",
    "print(importances)"
   ]
  },
  {
   "cell_type": "markdown",
   "metadata": {},
   "source": [
    "**2D. Recursive Feature Elimination (RFE)**\n",
    "\n",
    "- Wrapper method: iteratively removes least important features and checks performance."
   ]
  },
  {
   "cell_type": "code",
   "execution_count": 12,
   "metadata": {},
   "outputs": [
    {
     "name": "stdout",
     "output_type": "stream",
     "text": [
      "Selected Features:  ['Age', 'Pets_Dog', 'Hobby_Reading']\n"
     ]
    }
   ],
   "source": [
    "from sklearn.feature_selection import RFE\n",
    "from sklearn.linear_model import LogisticRegression\n",
    "\n",
    "model = LogisticRegression(max_iter= 1000)\n",
    "rfe = RFE(model, n_features_to_select=3)\n",
    "fit = rfe.fit(x,y)\n",
    "\n",
    "selected_features = x.columns[fit.support_]\n",
    "print(\"Selected Features: \", list(selected_features))"
   ]
  },
  {
   "cell_type": "code",
   "execution_count": null,
   "metadata": {},
   "outputs": [],
   "source": []
  }
 ],
 "metadata": {
  "kernelspec": {
   "display_name": "venv",
   "language": "python",
   "name": "python3"
  },
  "language_info": {
   "codemirror_mode": {
    "name": "ipython",
    "version": 3
   },
   "file_extension": ".py",
   "mimetype": "text/x-python",
   "name": "python",
   "nbconvert_exporter": "python",
   "pygments_lexer": "ipython3",
   "version": "3.12.3"
  }
 },
 "nbformat": 4,
 "nbformat_minor": 2
}
